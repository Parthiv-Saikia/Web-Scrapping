{
 "cells": [
  {
   "cell_type": "code",
   "execution_count": 1,
   "id": "e702b23a",
   "metadata": {},
   "outputs": [
    {
     "name": "stdout",
     "output_type": "stream",
     "text": [
      "Requirement already satisfied: requests in d:\\8 sem\\web scrap1\\venv\\lib\\site-packages (2.32.3)\n",
      "Requirement already satisfied: charset-normalizer<4,>=2 in d:\\8 sem\\web scrap1\\venv\\lib\\site-packages (from requests) (3.4.1)\n",
      "Requirement already satisfied: idna<4,>=2.5 in d:\\8 sem\\web scrap1\\venv\\lib\\site-packages (from requests) (3.10)\n",
      "Requirement already satisfied: urllib3<3,>=1.21.1 in d:\\8 sem\\web scrap1\\venv\\lib\\site-packages (from requests) (2.4.0)\n",
      "Requirement already satisfied: certifi>=2017.4.17 in d:\\8 sem\\web scrap1\\venv\\lib\\site-packages (from requests) (2025.1.31)\n",
      "Note: you may need to restart the kernel to use updated packages.\n"
     ]
    },
    {
     "name": "stderr",
     "output_type": "stream",
     "text": [
      "\n",
      "[notice] A new release of pip is available: 24.3.1 -> 25.0.1\n",
      "[notice] To update, run: python.exe -m pip install --upgrade pip\n"
     ]
    }
   ],
   "source": [
    "%pip install requests\n"
   ]
  },
  {
   "cell_type": "code",
   "execution_count": null,
   "id": "af4f7cd5",
   "metadata": {},
   "outputs": [
    {
     "name": "stdout",
     "output_type": "stream",
     "text": [
      "✅ 96 news articles saved to 'tata_steel_news.csv'\n"
     ]
    }
   ],
   "source": [
    "import requests\n",
    "import datetime\n",
    "import csv\n",
    "\n",
    "API_KEY = 'API Key'  # 🔁 Replace with your NewsAPI key\n",
    "query = \"Tata Steel\"\n",
    "url = \"https://newsapi.org/v2/everything\"\n",
    "\n",
    "params = {\n",
    "    'q': query,\n",
    "    'from': (datetime.datetime.now() - datetime.timedelta(days=30)).strftime('%Y-%m-%d'),\n",
    "    'sortBy': 'publishedAt',\n",
    "    'language': 'en',\n",
    "    'pageSize': 100,\n",
    "    'apiKey': API_KEY\n",
    "}\n",
    "\n",
    "response = requests.get(url, params=params)\n",
    "data = response.json()\n",
    "\n",
    "if data['status'] == 'ok':\n",
    "    articles = data['articles']\n",
    "    filename = \"tata_steel_news.csv\"\n",
    "\n",
    "    with open(filename, mode='w', newline='', encoding='utf-8') as file:\n",
    "        writer = csv.writer(file)\n",
    "        writer.writerow([\"Title\", \"Source\", \"PublishedAt\", \"URL\", \"Description\"])\n",
    "\n",
    "        for article in articles:\n",
    "            writer.writerow([\n",
    "                article.get('title', ''),\n",
    "                article.get('source', {}).get('name', ''),\n",
    "                article.get('publishedAt', ''),\n",
    "                article.get('url', ''),\n",
    "                article.get('description', '')\n",
    "            ])\n",
    "\n",
    "    print(f\"✅ {len(articles)} news articles saved to '{filename}'\")\n",
    "else:\n",
    "    print(\"❌ Error fetching news:\", data.get(\"message\", \"Unknown error\"))\n"
   ]
  }
 ],
 "metadata": {
  "kernelspec": {
   "display_name": "venv",
   "language": "python",
   "name": "python3"
  },
  "language_info": {
   "codemirror_mode": {
    "name": "ipython",
    "version": 3
   },
   "file_extension": ".py",
   "mimetype": "text/x-python",
   "name": "python",
   "nbconvert_exporter": "python",
   "pygments_lexer": "ipython3",
   "version": "3.12.9"
  }
 },
 "nbformat": 4,
 "nbformat_minor": 5
}
